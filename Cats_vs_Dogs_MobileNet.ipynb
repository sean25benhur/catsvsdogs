{
  "nbformat": 4,
  "nbformat_minor": 0,
  "metadata": {
    "colab": {
      "name": "Cats vs Dogs MobileNet",
      "provenance": [],
      "collapsed_sections": [],
      "mount_file_id": "1DxErEYU_5zqzZtbpuZIIfOM8aE9yXWUH",
      "authorship_tag": "ABX9TyPVYZbbS+zURpTamSCLq5Ie",
      "include_colab_link": true
    },
    "kernelspec": {
      "name": "python3",
      "display_name": "Python 3"
    },
    "accelerator": "GPU"
  },
  "cells": [
    {
      "cell_type": "markdown",
      "metadata": {
        "id": "view-in-github",
        "colab_type": "text"
      },
      "source": [
        "<a href=\"https://colab.research.google.com/github/sean25benhur/catsvsdogs/blob/master/Cats_vs_Dogs_MobileNet.ipynb\" target=\"_parent\"><img src=\"https://colab.research.google.com/assets/colab-badge.svg\" alt=\"Open In Colab\"/></a>"
      ]
    },
    {
      "cell_type": "code",
      "metadata": {
        "id": "EpOwEDifOSs7",
        "colab_type": "code",
        "colab": {
          "base_uri": "https://localhost:8080/",
          "height": 496
        },
        "outputId": "aa0c91e2-2856-4074-b348-74179171d350"
      },
      "source": [
        "!pip install -U tensorflow_datasets"
      ],
      "execution_count": 1,
      "outputs": [
        {
          "output_type": "stream",
          "text": [
            "Collecting tensorflow_datasets\n",
            "\u001b[?25l  Downloading https://files.pythonhosted.org/packages/76/41/8404fabb295025c1ced13bb150246f75770619889d8637afa523a4d09cdb/tensorflow_datasets-3.0.0-py3-none-any.whl (3.3MB)\n",
            "\r\u001b[K     |                                | 10kB 28.8MB/s eta 0:00:01\r\u001b[K     |▏                               | 20kB 2.9MB/s eta 0:00:02\r\u001b[K     |▎                               | 30kB 4.3MB/s eta 0:00:01\r\u001b[K     |▍                               | 40kB 2.8MB/s eta 0:00:02\r\u001b[K     |▌                               | 51kB 3.5MB/s eta 0:00:01\r\u001b[K     |▋                               | 61kB 4.2MB/s eta 0:00:01\r\u001b[K     |▊                               | 71kB 4.8MB/s eta 0:00:01\r\u001b[K     |▉                               | 81kB 3.8MB/s eta 0:00:01\r\u001b[K     |█                               | 92kB 4.2MB/s eta 0:00:01\r\u001b[K     |█                               | 102kB 4.6MB/s eta 0:00:01\r\u001b[K     |█                               | 112kB 4.6MB/s eta 0:00:01\r\u001b[K     |█▏                              | 122kB 4.6MB/s eta 0:00:01\r\u001b[K     |█▎                              | 133kB 4.6MB/s eta 0:00:01\r\u001b[K     |█▍                              | 143kB 4.6MB/s eta 0:00:01\r\u001b[K     |█▌                              | 153kB 4.6MB/s eta 0:00:01\r\u001b[K     |█▋                              | 163kB 4.6MB/s eta 0:00:01\r\u001b[K     |█▊                              | 174kB 4.6MB/s eta 0:00:01\r\u001b[K     |█▉                              | 184kB 4.6MB/s eta 0:00:01\r\u001b[K     |██                              | 194kB 4.6MB/s eta 0:00:01\r\u001b[K     |██                              | 204kB 4.6MB/s eta 0:00:01\r\u001b[K     |██                              | 215kB 4.6MB/s eta 0:00:01\r\u001b[K     |██▏                             | 225kB 4.6MB/s eta 0:00:01\r\u001b[K     |██▎                             | 235kB 4.6MB/s eta 0:00:01\r\u001b[K     |██▍                             | 245kB 4.6MB/s eta 0:00:01\r\u001b[K     |██▌                             | 256kB 4.6MB/s eta 0:00:01\r\u001b[K     |██▋                             | 266kB 4.6MB/s eta 0:00:01\r\u001b[K     |██▊                             | 276kB 4.6MB/s eta 0:00:01\r\u001b[K     |██▉                             | 286kB 4.6MB/s eta 0:00:01\r\u001b[K     |██▉                             | 296kB 4.6MB/s eta 0:00:01\r\u001b[K     |███                             | 307kB 4.6MB/s eta 0:00:01\r\u001b[K     |███                             | 317kB 4.6MB/s eta 0:00:01\r\u001b[K     |███▏                            | 327kB 4.6MB/s eta 0:00:01\r\u001b[K     |███▎                            | 337kB 4.6MB/s eta 0:00:01\r\u001b[K     |███▍                            | 348kB 4.6MB/s eta 0:00:01\r\u001b[K     |███▌                            | 358kB 4.6MB/s eta 0:00:01\r\u001b[K     |███▋                            | 368kB 4.6MB/s eta 0:00:01\r\u001b[K     |███▊                            | 378kB 4.6MB/s eta 0:00:01\r\u001b[K     |███▉                            | 389kB 4.6MB/s eta 0:00:01\r\u001b[K     |███▉                            | 399kB 4.6MB/s eta 0:00:01\r\u001b[K     |████                            | 409kB 4.6MB/s eta 0:00:01\r\u001b[K     |████                            | 419kB 4.6MB/s eta 0:00:01\r\u001b[K     |████▏                           | 430kB 4.6MB/s eta 0:00:01\r\u001b[K     |████▎                           | 440kB 4.6MB/s eta 0:00:01\r\u001b[K     |████▍                           | 450kB 4.6MB/s eta 0:00:01\r\u001b[K     |████▌                           | 460kB 4.6MB/s eta 0:00:01\r\u001b[K     |████▋                           | 471kB 4.6MB/s eta 0:00:01\r\u001b[K     |████▊                           | 481kB 4.6MB/s eta 0:00:01\r\u001b[K     |████▊                           | 491kB 4.6MB/s eta 0:00:01\r\u001b[K     |████▉                           | 501kB 4.6MB/s eta 0:00:01\r\u001b[K     |█████                           | 512kB 4.6MB/s eta 0:00:01\r\u001b[K     |█████                           | 522kB 4.6MB/s eta 0:00:01\r\u001b[K     |█████▏                          | 532kB 4.6MB/s eta 0:00:01\r\u001b[K     |█████▎                          | 542kB 4.6MB/s eta 0:00:01\r\u001b[K     |█████▍                          | 552kB 4.6MB/s eta 0:00:01\r\u001b[K     |█████▌                          | 563kB 4.6MB/s eta 0:00:01\r\u001b[K     |█████▋                          | 573kB 4.6MB/s eta 0:00:01\r\u001b[K     |█████▊                          | 583kB 4.6MB/s eta 0:00:01\r\u001b[K     |█████▊                          | 593kB 4.6MB/s eta 0:00:01\r\u001b[K     |█████▉                          | 604kB 4.6MB/s eta 0:00:01\r\u001b[K     |██████                          | 614kB 4.6MB/s eta 0:00:01\r\u001b[K     |██████                          | 624kB 4.6MB/s eta 0:00:01\r\u001b[K     |██████▏                         | 634kB 4.6MB/s eta 0:00:01\r\u001b[K     |██████▎                         | 645kB 4.6MB/s eta 0:00:01\r\u001b[K     |██████▍                         | 655kB 4.6MB/s eta 0:00:01\r\u001b[K     |██████▌                         | 665kB 4.6MB/s eta 0:00:01\r\u001b[K     |██████▋                         | 675kB 4.6MB/s eta 0:00:01\r\u001b[K     |██████▋                         | 686kB 4.6MB/s eta 0:00:01\r\u001b[K     |██████▊                         | 696kB 4.6MB/s eta 0:00:01\r\u001b[K     |██████▉                         | 706kB 4.6MB/s eta 0:00:01\r\u001b[K     |███████                         | 716kB 4.6MB/s eta 0:00:01\r\u001b[K     |███████                         | 727kB 4.6MB/s eta 0:00:01\r\u001b[K     |███████▏                        | 737kB 4.6MB/s eta 0:00:01\r\u001b[K     |███████▎                        | 747kB 4.6MB/s eta 0:00:01\r\u001b[K     |███████▍                        | 757kB 4.6MB/s eta 0:00:01\r\u001b[K     |███████▌                        | 768kB 4.6MB/s eta 0:00:01\r\u001b[K     |███████▋                        | 778kB 4.6MB/s eta 0:00:01\r\u001b[K     |███████▋                        | 788kB 4.6MB/s eta 0:00:01\r\u001b[K     |███████▊                        | 798kB 4.6MB/s eta 0:00:01\r\u001b[K     |███████▉                        | 808kB 4.6MB/s eta 0:00:01\r\u001b[K     |████████                        | 819kB 4.6MB/s eta 0:00:01\r\u001b[K     |████████                        | 829kB 4.6MB/s eta 0:00:01\r\u001b[K     |████████▏                       | 839kB 4.6MB/s eta 0:00:01\r\u001b[K     |████████▎                       | 849kB 4.6MB/s eta 0:00:01\r\u001b[K     |████████▍                       | 860kB 4.6MB/s eta 0:00:01\r\u001b[K     |████████▌                       | 870kB 4.6MB/s eta 0:00:01\r\u001b[K     |████████▌                       | 880kB 4.6MB/s eta 0:00:01\r\u001b[K     |████████▋                       | 890kB 4.6MB/s eta 0:00:01\r\u001b[K     |████████▊                       | 901kB 4.6MB/s eta 0:00:01\r\u001b[K     |████████▉                       | 911kB 4.6MB/s eta 0:00:01\r\u001b[K     |█████████                       | 921kB 4.6MB/s eta 0:00:01\r\u001b[K     |█████████                       | 931kB 4.6MB/s eta 0:00:01\r\u001b[K     |█████████▏                      | 942kB 4.6MB/s eta 0:00:01\r\u001b[K     |█████████▎                      | 952kB 4.6MB/s eta 0:00:01\r\u001b[K     |█████████▍                      | 962kB 4.6MB/s eta 0:00:01\r\u001b[K     |█████████▌                      | 972kB 4.6MB/s eta 0:00:01\r\u001b[K     |█████████▌                      | 983kB 4.6MB/s eta 0:00:01\r\u001b[K     |█████████▋                      | 993kB 4.6MB/s eta 0:00:01\r\u001b[K     |█████████▊                      | 1.0MB 4.6MB/s eta 0:00:01\r\u001b[K     |█████████▉                      | 1.0MB 4.6MB/s eta 0:00:01\r\u001b[K     |██████████                      | 1.0MB 4.6MB/s eta 0:00:01\r\u001b[K     |██████████                      | 1.0MB 4.6MB/s eta 0:00:01\r\u001b[K     |██████████▏                     | 1.0MB 4.6MB/s eta 0:00:01\r\u001b[K     |██████████▎                     | 1.1MB 4.6MB/s eta 0:00:01\r\u001b[K     |██████████▍                     | 1.1MB 4.6MB/s eta 0:00:01\r\u001b[K     |██████████▍                     | 1.1MB 4.6MB/s eta 0:00:01\r\u001b[K     |██████████▌                     | 1.1MB 4.6MB/s eta 0:00:01\r\u001b[K     |██████████▋                     | 1.1MB 4.6MB/s eta 0:00:01\r\u001b[K     |██████████▊                     | 1.1MB 4.6MB/s eta 0:00:01\r\u001b[K     |██████████▉                     | 1.1MB 4.6MB/s eta 0:00:01\r\u001b[K     |███████████                     | 1.1MB 4.6MB/s eta 0:00:01\r\u001b[K     |███████████                     | 1.1MB 4.6MB/s eta 0:00:01\r\u001b[K     |███████████▏                    | 1.1MB 4.6MB/s eta 0:00:01\r\u001b[K     |███████████▎                    | 1.2MB 4.6MB/s eta 0:00:01\r\u001b[K     |███████████▍                    | 1.2MB 4.6MB/s eta 0:00:01\r\u001b[K     |███████████▍                    | 1.2MB 4.6MB/s eta 0:00:01\r\u001b[K     |███████████▌                    | 1.2MB 4.6MB/s eta 0:00:01\r\u001b[K     |███████████▋                    | 1.2MB 4.6MB/s eta 0:00:01\r\u001b[K     |███████████▊                    | 1.2MB 4.6MB/s eta 0:00:01\r\u001b[K     |███████████▉                    | 1.2MB 4.6MB/s eta 0:00:01\r\u001b[K     |████████████                    | 1.2MB 4.6MB/s eta 0:00:01\r\u001b[K     |████████████                    | 1.2MB 4.6MB/s eta 0:00:01\r\u001b[K     |████████████▏                   | 1.2MB 4.6MB/s eta 0:00:01\r\u001b[K     |████████████▎                   | 1.3MB 4.6MB/s eta 0:00:01\r\u001b[K     |████████████▎                   | 1.3MB 4.6MB/s eta 0:00:01\r\u001b[K     |████████████▍                   | 1.3MB 4.6MB/s eta 0:00:01\r\u001b[K     |████████████▌                   | 1.3MB 4.6MB/s eta 0:00:01\r\u001b[K     |████████████▋                   | 1.3MB 4.6MB/s eta 0:00:01\r\u001b[K     |████████████▊                   | 1.3MB 4.6MB/s eta 0:00:01\r\u001b[K     |████████████▉                   | 1.3MB 4.6MB/s eta 0:00:01\r\u001b[K     |█████████████                   | 1.3MB 4.6MB/s eta 0:00:01\r\u001b[K     |█████████████                   | 1.3MB 4.6MB/s eta 0:00:01\r\u001b[K     |█████████████▏                  | 1.4MB 4.6MB/s eta 0:00:01\r\u001b[K     |█████████████▎                  | 1.4MB 4.6MB/s eta 0:00:01\r\u001b[K     |█████████████▎                  | 1.4MB 4.6MB/s eta 0:00:01\r\u001b[K     |█████████████▍                  | 1.4MB 4.6MB/s eta 0:00:01\r\u001b[K     |█████████████▌                  | 1.4MB 4.6MB/s eta 0:00:01\r\u001b[K     |█████████████▋                  | 1.4MB 4.6MB/s eta 0:00:01\r\u001b[K     |█████████████▊                  | 1.4MB 4.6MB/s eta 0:00:01\r\u001b[K     |█████████████▉                  | 1.4MB 4.6MB/s eta 0:00:01\r\u001b[K     |██████████████                  | 1.4MB 4.6MB/s eta 0:00:01\r\u001b[K     |██████████████                  | 1.4MB 4.6MB/s eta 0:00:01\r\u001b[K     |██████████████▏                 | 1.5MB 4.6MB/s eta 0:00:01\r\u001b[K     |██████████████▏                 | 1.5MB 4.6MB/s eta 0:00:01\r\u001b[K     |██████████████▎                 | 1.5MB 4.6MB/s eta 0:00:01\r\u001b[K     |██████████████▍                 | 1.5MB 4.6MB/s eta 0:00:01\r\u001b[K     |██████████████▌                 | 1.5MB 4.6MB/s eta 0:00:01\r\u001b[K     |██████████████▋                 | 1.5MB 4.6MB/s eta 0:00:01\r\u001b[K     |██████████████▊                 | 1.5MB 4.6MB/s eta 0:00:01\r\u001b[K     |██████████████▉                 | 1.5MB 4.6MB/s eta 0:00:01\r\u001b[K     |███████████████                 | 1.5MB 4.6MB/s eta 0:00:01\r\u001b[K     |███████████████                 | 1.5MB 4.6MB/s eta 0:00:01\r\u001b[K     |███████████████▏                | 1.6MB 4.6MB/s eta 0:00:01\r\u001b[K     |███████████████▏                | 1.6MB 4.6MB/s eta 0:00:01\r\u001b[K     |███████████████▎                | 1.6MB 4.6MB/s eta 0:00:01\r\u001b[K     |███████████████▍                | 1.6MB 4.6MB/s eta 0:00:01\r\u001b[K     |███████████████▌                | 1.6MB 4.6MB/s eta 0:00:01\r\u001b[K     |███████████████▋                | 1.6MB 4.6MB/s eta 0:00:01\r\u001b[K     |███████████████▊                | 1.6MB 4.6MB/s eta 0:00:01\r\u001b[K     |███████████████▉                | 1.6MB 4.6MB/s eta 0:00:01\r\u001b[K     |████████████████                | 1.6MB 4.6MB/s eta 0:00:01\r\u001b[K     |████████████████                | 1.6MB 4.6MB/s eta 0:00:01\r\u001b[K     |████████████████                | 1.7MB 4.6MB/s eta 0:00:01\r\u001b[K     |████████████████▏               | 1.7MB 4.6MB/s eta 0:00:01\r\u001b[K     |████████████████▎               | 1.7MB 4.6MB/s eta 0:00:01\r\u001b[K     |████████████████▍               | 1.7MB 4.6MB/s eta 0:00:01\r\u001b[K     |████████████████▌               | 1.7MB 4.6MB/s eta 0:00:01\r\u001b[K     |████████████████▋               | 1.7MB 4.6MB/s eta 0:00:01\r\u001b[K     |████████████████▊               | 1.7MB 4.6MB/s eta 0:00:01\r\u001b[K     |████████████████▉               | 1.7MB 4.6MB/s eta 0:00:01\r\u001b[K     |█████████████████               | 1.7MB 4.6MB/s eta 0:00:01\r\u001b[K     |█████████████████               | 1.8MB 4.6MB/s eta 0:00:01\r\u001b[K     |█████████████████               | 1.8MB 4.6MB/s eta 0:00:01\r\u001b[K     |█████████████████▏              | 1.8MB 4.6MB/s eta 0:00:01\r\u001b[K     |█████████████████▎              | 1.8MB 4.6MB/s eta 0:00:01\r\u001b[K     |█████████████████▍              | 1.8MB 4.6MB/s eta 0:00:01\r\u001b[K     |█████████████████▌              | 1.8MB 4.6MB/s eta 0:00:01\r\u001b[K     |█████████████████▋              | 1.8MB 4.6MB/s eta 0:00:01\r\u001b[K     |█████████████████▊              | 1.8MB 4.6MB/s eta 0:00:01\r\u001b[K     |█████████████████▉              | 1.8MB 4.6MB/s eta 0:00:01\r\u001b[K     |██████████████████              | 1.8MB 4.6MB/s eta 0:00:01\r\u001b[K     |██████████████████              | 1.9MB 4.6MB/s eta 0:00:01\r\u001b[K     |██████████████████              | 1.9MB 4.6MB/s eta 0:00:01\r\u001b[K     |██████████████████▏             | 1.9MB 4.6MB/s eta 0:00:01\r\u001b[K     |██████████████████▎             | 1.9MB 4.6MB/s eta 0:00:01\r\u001b[K     |██████████████████▍             | 1.9MB 4.6MB/s eta 0:00:01\r\u001b[K     |██████████████████▌             | 1.9MB 4.6MB/s eta 0:00:01\r\u001b[K     |██████████████████▋             | 1.9MB 4.6MB/s eta 0:00:01\r\u001b[K     |██████████████████▊             | 1.9MB 4.6MB/s eta 0:00:01\r\u001b[K     |██████████████████▉             | 1.9MB 4.6MB/s eta 0:00:01\r\u001b[K     |███████████████████             | 1.9MB 4.6MB/s eta 0:00:01\r\u001b[K     |███████████████████             | 2.0MB 4.6MB/s eta 0:00:01\r\u001b[K     |███████████████████             | 2.0MB 4.6MB/s eta 0:00:01\r\u001b[K     |███████████████████▏            | 2.0MB 4.6MB/s eta 0:00:01\r\u001b[K     |███████████████████▎            | 2.0MB 4.6MB/s eta 0:00:01\r\u001b[K     |███████████████████▍            | 2.0MB 4.6MB/s eta 0:00:01\r\u001b[K     |███████████████████▌            | 2.0MB 4.6MB/s eta 0:00:01\r\u001b[K     |███████████████████▋            | 2.0MB 4.6MB/s eta 0:00:01\r\u001b[K     |███████████████████▊            | 2.0MB 4.6MB/s eta 0:00:01\r\u001b[K     |███████████████████▉            | 2.0MB 4.6MB/s eta 0:00:01\r\u001b[K     |████████████████████            | 2.0MB 4.6MB/s eta 0:00:01\r\u001b[K     |████████████████████            | 2.1MB 4.6MB/s eta 0:00:01\r\u001b[K     |████████████████████            | 2.1MB 4.6MB/s eta 0:00:01\r\u001b[K     |████████████████████▏           | 2.1MB 4.6MB/s eta 0:00:01\r\u001b[K     |████████████████████▎           | 2.1MB 88kB/s eta 0:00:14\r\u001b[K     |████████████████████▍           | 2.1MB 88kB/s eta 0:00:14\r\u001b[K     |████████████████████▌           | 2.1MB 88kB/s eta 0:00:14\r\u001b[K     |████████████████████▋           | 2.1MB 88kB/s eta 0:00:14\r\u001b[K     |████████████████████▊           | 2.1MB 88kB/s eta 0:00:14\r\u001b[K     |████████████████████▉           | 2.1MB 88kB/s eta 0:00:14\r\u001b[K     |████████████████████▉           | 2.2MB 88kB/s eta 0:00:13\r\u001b[K     |█████████████████████           | 2.2MB 88kB/s eta 0:00:13\r\u001b[K     |█████████████████████           | 2.2MB 88kB/s eta 0:00:13\r\u001b[K     |█████████████████████▏          | 2.2MB 88kB/s eta 0:00:13\r\u001b[K     |█████████████████████▎          | 2.2MB 88kB/s eta 0:00:13\r\u001b[K     |█████████████████████▍          | 2.2MB 88kB/s eta 0:00:13\r\u001b[K     |█████████████████████▌          | 2.2MB 88kB/s eta 0:00:13\r\u001b[K     |█████████████████████▋          | 2.2MB 88kB/s eta 0:00:13\r\u001b[K     |█████████████████████▊          | 2.2MB 88kB/s eta 0:00:13\r\u001b[K     |█████████████████████▉          | 2.2MB 88kB/s eta 0:00:12\r\u001b[K     |█████████████████████▉          | 2.3MB 88kB/s eta 0:00:12\r\u001b[K     |██████████████████████          | 2.3MB 88kB/s eta 0:00:12\r\u001b[K     |██████████████████████          | 2.3MB 88kB/s eta 0:00:12\r\u001b[K     |██████████████████████▏         | 2.3MB 88kB/s eta 0:00:12\r\u001b[K     |██████████████████████▎         | 2.3MB 88kB/s eta 0:00:12\r\u001b[K     |██████████████████████▍         | 2.3MB 88kB/s eta 0:00:12\r\u001b[K     |██████████████████████▌         | 2.3MB 88kB/s eta 0:00:12\r\u001b[K     |██████████████████████▋         | 2.3MB 88kB/s eta 0:00:11\r\u001b[K     |██████████████████████▊         | 2.3MB 88kB/s eta 0:00:11\r\u001b[K     |██████████████████████▊         | 2.3MB 88kB/s eta 0:00:11\r\u001b[K     |██████████████████████▉         | 2.4MB 88kB/s eta 0:00:11\r\u001b[K     |███████████████████████         | 2.4MB 88kB/s eta 0:00:11\r\u001b[K     |███████████████████████         | 2.4MB 88kB/s eta 0:00:11\r\u001b[K     |███████████████████████▏        | 2.4MB 88kB/s eta 0:00:11\r\u001b[K     |███████████████████████▎        | 2.4MB 88kB/s eta 0:00:11\r\u001b[K     |███████████████████████▍        | 2.4MB 88kB/s eta 0:00:11\r\u001b[K     |███████████████████████▌        | 2.4MB 88kB/s eta 0:00:10\r\u001b[K     |███████████████████████▋        | 2.4MB 88kB/s eta 0:00:10\r\u001b[K     |███████████████████████▊        | 2.4MB 88kB/s eta 0:00:10\r\u001b[K     |███████████████████████▊        | 2.4MB 88kB/s eta 0:00:10\r\u001b[K     |███████████████████████▉        | 2.5MB 88kB/s eta 0:00:10\r\u001b[K     |████████████████████████        | 2.5MB 88kB/s eta 0:00:10\r\u001b[K     |████████████████████████        | 2.5MB 88kB/s eta 0:00:10\r\u001b[K     |████████████████████████▏       | 2.5MB 88kB/s eta 0:00:10\r\u001b[K     |████████████████████████▎       | 2.5MB 88kB/s eta 0:00:10\r\u001b[K     |████████████████████████▍       | 2.5MB 88kB/s eta 0:00:09\r\u001b[K     |████████████████████████▌       | 2.5MB 88kB/s eta 0:00:09\r\u001b[K     |████████████████████████▋       | 2.5MB 88kB/s eta 0:00:09\r\u001b[K     |████████████████████████▋       | 2.5MB 88kB/s eta 0:00:09\r\u001b[K     |████████████████████████▊       | 2.5MB 88kB/s eta 0:00:09\r\u001b[K     |████████████████████████▉       | 2.6MB 88kB/s eta 0:00:09\r\u001b[K     |█████████████████████████       | 2.6MB 88kB/s eta 0:00:09\r\u001b[K     |█████████████████████████       | 2.6MB 88kB/s eta 0:00:09\r\u001b[K     |█████████████████████████▏      | 2.6MB 88kB/s eta 0:00:08\r\u001b[K     |█████████████████████████▎      | 2.6MB 88kB/s eta 0:00:08\r\u001b[K     |█████████████████████████▍      | 2.6MB 88kB/s eta 0:00:08\r\u001b[K     |█████████████████████████▌      | 2.6MB 88kB/s eta 0:00:08\r\u001b[K     |█████████████████████████▋      | 2.6MB 88kB/s eta 0:00:08\r\u001b[K     |█████████████████████████▋      | 2.6MB 88kB/s eta 0:00:08\r\u001b[K     |█████████████████████████▊      | 2.7MB 88kB/s eta 0:00:08\r\u001b[K     |█████████████████████████▉      | 2.7MB 88kB/s eta 0:00:08\r\u001b[K     |██████████████████████████      | 2.7MB 88kB/s eta 0:00:08\r\u001b[K     |██████████████████████████      | 2.7MB 88kB/s eta 0:00:07\r\u001b[K     |██████████████████████████▏     | 2.7MB 88kB/s eta 0:00:07\r\u001b[K     |██████████████████████████▎     | 2.7MB 88kB/s eta 0:00:07\r\u001b[K     |██████████████████████████▍     | 2.7MB 88kB/s eta 0:00:07\r\u001b[K     |██████████████████████████▌     | 2.7MB 88kB/s eta 0:00:07\r\u001b[K     |██████████████████████████▌     | 2.7MB 88kB/s eta 0:00:07\r\u001b[K     |██████████████████████████▋     | 2.7MB 88kB/s eta 0:00:07\r\u001b[K     |██████████████████████████▊     | 2.8MB 88kB/s eta 0:00:07\r\u001b[K     |██████████████████████████▉     | 2.8MB 88kB/s eta 0:00:06\r\u001b[K     |███████████████████████████     | 2.8MB 88kB/s eta 0:00:06\r\u001b[K     |███████████████████████████     | 2.8MB 88kB/s eta 0:00:06\r\u001b[K     |███████████████████████████▏    | 2.8MB 88kB/s eta 0:00:06\r\u001b[K     |███████████████████████████▎    | 2.8MB 88kB/s eta 0:00:06\r\u001b[K     |███████████████████████████▍    | 2.8MB 88kB/s eta 0:00:06\r\u001b[K     |███████████████████████████▌    | 2.8MB 88kB/s eta 0:00:06\r\u001b[K     |███████████████████████████▌    | 2.8MB 88kB/s eta 0:00:06\r\u001b[K     |███████████████████████████▋    | 2.8MB 88kB/s eta 0:00:06\r\u001b[K     |███████████████████████████▊    | 2.9MB 88kB/s eta 0:00:05\r\u001b[K     |███████████████████████████▉    | 2.9MB 88kB/s eta 0:00:05\r\u001b[K     |████████████████████████████    | 2.9MB 88kB/s eta 0:00:05\r\u001b[K     |████████████████████████████    | 2.9MB 88kB/s eta 0:00:05\r\u001b[K     |████████████████████████████▏   | 2.9MB 88kB/s eta 0:00:05\r\u001b[K     |████████████████████████████▎   | 2.9MB 88kB/s eta 0:00:05\r\u001b[K     |████████████████████████████▍   | 2.9MB 88kB/s eta 0:00:05\r\u001b[K     |████████████████████████████▍   | 2.9MB 88kB/s eta 0:00:05\r\u001b[K     |████████████████████████████▌   | 2.9MB 88kB/s eta 0:00:05\r\u001b[K     |████████████████████████████▋   | 2.9MB 88kB/s eta 0:00:04\r\u001b[K     |████████████████████████████▊   | 3.0MB 88kB/s eta 0:00:04\r\u001b[K     |████████████████████████████▉   | 3.0MB 88kB/s eta 0:00:04\r\u001b[K     |█████████████████████████████   | 3.0MB 88kB/s eta 0:00:04\r\u001b[K     |█████████████████████████████   | 3.0MB 88kB/s eta 0:00:04\r\u001b[K     |█████████████████████████████▏  | 3.0MB 88kB/s eta 0:00:04\r\u001b[K     |█████████████████████████████▎  | 3.0MB 88kB/s eta 0:00:04\r\u001b[K     |█████████████████████████████▍  | 3.0MB 88kB/s eta 0:00:04\r\u001b[K     |█████████████████████████████▍  | 3.0MB 88kB/s eta 0:00:03\r\u001b[K     |█████████████████████████████▌  | 3.0MB 88kB/s eta 0:00:03\r\u001b[K     |█████████████████████████████▋  | 3.1MB 88kB/s eta 0:00:03\r\u001b[K     |█████████████████████████████▊  | 3.1MB 88kB/s eta 0:00:03\r\u001b[K     |█████████████████████████████▉  | 3.1MB 88kB/s eta 0:00:03\r\u001b[K     |██████████████████████████████  | 3.1MB 88kB/s eta 0:00:03\r\u001b[K     |██████████████████████████████  | 3.1MB 88kB/s eta 0:00:03\r\u001b[K     |██████████████████████████████▏ | 3.1MB 88kB/s eta 0:00:03\r\u001b[K     |██████████████████████████████▎ | 3.1MB 88kB/s eta 0:00:03\r\u001b[K     |██████████████████████████████▎ | 3.1MB 88kB/s eta 0:00:02\r\u001b[K     |██████████████████████████████▍ | 3.1MB 88kB/s eta 0:00:02\r\u001b[K     |██████████████████████████████▌ | 3.1MB 88kB/s eta 0:00:02\r\u001b[K     |██████████████████████████████▋ | 3.2MB 88kB/s eta 0:00:02\r\u001b[K     |██████████████████████████████▊ | 3.2MB 88kB/s eta 0:00:02\r\u001b[K     |██████████████████████████████▉ | 3.2MB 88kB/s eta 0:00:02\r\u001b[K     |███████████████████████████████ | 3.2MB 88kB/s eta 0:00:02\r\u001b[K     |███████████████████████████████ | 3.2MB 88kB/s eta 0:00:02\r\u001b[K     |███████████████████████████████▏| 3.2MB 88kB/s eta 0:00:02\r\u001b[K     |███████████████████████████████▎| 3.2MB 88kB/s eta 0:00:01\r\u001b[K     |███████████████████████████████▎| 3.2MB 88kB/s eta 0:00:01\r\u001b[K     |███████████████████████████████▍| 3.2MB 88kB/s eta 0:00:01\r\u001b[K     |███████████████████████████████▌| 3.2MB 88kB/s eta 0:00:01\r\u001b[K     |███████████████████████████████▋| 3.3MB 88kB/s eta 0:00:01\r\u001b[K     |███████████████████████████████▊| 3.3MB 88kB/s eta 0:00:01\r\u001b[K     |███████████████████████████████▉| 3.3MB 88kB/s eta 0:00:01\r\u001b[K     |████████████████████████████████| 3.3MB 88kB/s eta 0:00:01\r\u001b[K     |████████████████████████████████| 3.3MB 88kB/s \n",
            "\u001b[?25hRequirement already satisfied, skipping upgrade: protobuf>=3.6.1 in /usr/local/lib/python3.6/dist-packages (from tensorflow_datasets) (3.10.0)\n",
            "Requirement already satisfied, skipping upgrade: wrapt in /usr/local/lib/python3.6/dist-packages (from tensorflow_datasets) (1.12.1)\n",
            "Requirement already satisfied, skipping upgrade: tensorflow-metadata in /usr/local/lib/python3.6/dist-packages (from tensorflow_datasets) (0.21.2)\n",
            "Requirement already satisfied, skipping upgrade: numpy in /usr/local/lib/python3.6/dist-packages (from tensorflow_datasets) (1.18.2)\n",
            "Requirement already satisfied, skipping upgrade: tqdm in /usr/local/lib/python3.6/dist-packages (from tensorflow_datasets) (4.38.0)\n",
            "Requirement already satisfied, skipping upgrade: dill in /usr/local/lib/python3.6/dist-packages (from tensorflow_datasets) (0.3.1.1)\n",
            "Requirement already satisfied, skipping upgrade: promise in /usr/local/lib/python3.6/dist-packages (from tensorflow_datasets) (2.3)\n",
            "Requirement already satisfied, skipping upgrade: termcolor in /usr/local/lib/python3.6/dist-packages (from tensorflow_datasets) (1.1.0)\n",
            "Requirement already satisfied, skipping upgrade: requests>=2.19.0 in /usr/local/lib/python3.6/dist-packages (from tensorflow_datasets) (2.21.0)\n",
            "Requirement already satisfied, skipping upgrade: absl-py in /usr/local/lib/python3.6/dist-packages (from tensorflow_datasets) (0.9.0)\n",
            "Requirement already satisfied, skipping upgrade: attrs>=18.1.0 in /usr/local/lib/python3.6/dist-packages (from tensorflow_datasets) (19.3.0)\n",
            "Requirement already satisfied, skipping upgrade: six in /usr/local/lib/python3.6/dist-packages (from tensorflow_datasets) (1.12.0)\n",
            "Requirement already satisfied, skipping upgrade: future in /usr/local/lib/python3.6/dist-packages (from tensorflow_datasets) (0.16.0)\n",
            "Requirement already satisfied, skipping upgrade: setuptools in /usr/local/lib/python3.6/dist-packages (from protobuf>=3.6.1->tensorflow_datasets) (46.1.3)\n",
            "Requirement already satisfied, skipping upgrade: googleapis-common-protos in /usr/local/lib/python3.6/dist-packages (from tensorflow-metadata->tensorflow_datasets) (1.51.0)\n",
            "Requirement already satisfied, skipping upgrade: idna<2.9,>=2.5 in /usr/local/lib/python3.6/dist-packages (from requests>=2.19.0->tensorflow_datasets) (2.8)\n",
            "Requirement already satisfied, skipping upgrade: urllib3<1.25,>=1.21.1 in /usr/local/lib/python3.6/dist-packages (from requests>=2.19.0->tensorflow_datasets) (1.24.3)\n",
            "Requirement already satisfied, skipping upgrade: certifi>=2017.4.17 in /usr/local/lib/python3.6/dist-packages (from requests>=2.19.0->tensorflow_datasets) (2020.4.5.1)\n",
            "Requirement already satisfied, skipping upgrade: chardet<3.1.0,>=3.0.2 in /usr/local/lib/python3.6/dist-packages (from requests>=2.19.0->tensorflow_datasets) (3.0.4)\n",
            "Installing collected packages: tensorflow-datasets\n",
            "  Found existing installation: tensorflow-datasets 2.1.0\n",
            "    Uninstalling tensorflow-datasets-2.1.0:\n",
            "      Successfully uninstalled tensorflow-datasets-2.1.0\n",
            "Successfully installed tensorflow-datasets-3.0.0\n"
          ],
          "name": "stdout"
        }
      ]
    },
    {
      "cell_type": "code",
      "metadata": {
        "id": "1tSsVB9aOy2B",
        "colab_type": "code",
        "colab": {}
      },
      "source": [
        "import time\n",
        "import numpy as np\n",
        "import matplotlib.pylab as plt\n",
        "\n",
        "import tensorflow as tf\n",
        "import tensorflow_datasets as tfds\n",
        "tfds.disable_progress_bar()\n",
        "\n",
        "from tensorflow.keras import layers"
      ],
      "execution_count": 0,
      "outputs": []
    },
    {
      "cell_type": "code",
      "metadata": {
        "id": "gq1SgeczPggQ",
        "colab_type": "code",
        "colab": {
          "base_uri": "https://localhost:8080/",
          "height": 139
        },
        "outputId": "51994e0f-fd4a-4b83-835a-53448f7a048d"
      },
      "source": [
        "(train_examples, validation_examples), info = tfds.load(\n",
        "    'cats_vs_dogs',\n",
        "    split = ('train[:80%]', 'train[80%:]'),\n",
        "    with_info = True,\n",
        "    as_supervised = True\n",
        ")"
      ],
      "execution_count": 6,
      "outputs": [
        {
          "output_type": "stream",
          "text": [
            "\u001b[1mDownloading and preparing dataset cats_vs_dogs/4.0.0 (download: 786.68 MiB, generated: Unknown size, total: 786.68 MiB) to /root/tensorflow_datasets/cats_vs_dogs/4.0.0...\u001b[0m\n"
          ],
          "name": "stdout"
        },
        {
          "output_type": "stream",
          "text": [
            "/usr/local/lib/python3.6/dist-packages/urllib3/connectionpool.py:847: InsecureRequestWarning: Unverified HTTPS request is being made. Adding certificate verification is strongly advised. See: https://urllib3.readthedocs.io/en/latest/advanced-usage.html#ssl-warnings\n",
            "  InsecureRequestWarning)\n",
            "WARNING:absl:1738 images were corrupted and were skipped\n"
          ],
          "name": "stderr"
        },
        {
          "output_type": "stream",
          "text": [
            "Shuffling and writing examples to /root/tensorflow_datasets/cats_vs_dogs/4.0.0.incompleteIKDRDV/cats_vs_dogs-train.tfrecord\n",
            "\u001b[1mDataset cats_vs_dogs downloaded and prepared to /root/tensorflow_datasets/cats_vs_dogs/4.0.0. Subsequent calls will reuse this data.\u001b[0m\n"
          ],
          "name": "stdout"
        }
      ]
    },
    {
      "cell_type": "code",
      "metadata": {
        "id": "5lB489mySjfG",
        "colab_type": "code",
        "colab": {}
      },
      "source": [
        "def format_image(image, label):\n",
        "  image = tf.image.resize(image, (IMAGE_RES, IMAGE_RES))/255.0\n",
        "  return image,label\n",
        "\n",
        "num_examples = info.splits['train'].num_examples\n",
        "\n",
        "BATCH_SIZE = 32\n",
        "IMAGE_RES = 224\n",
        "\n",
        "train_batches = train_examples.cache().shuffle(num_examples//4).map(format_image).batch(BATCH_SIZE).prefetch(1)\n",
        "validation_batches = validation_examples.map(format_image).batch(BATCH_SIZE).prefetch(1)"
      ],
      "execution_count": 0,
      "outputs": []
    },
    {
      "cell_type": "code",
      "metadata": {
        "id": "DwcSiANiV82A",
        "colab_type": "code",
        "colab": {
          "base_uri": "https://localhost:8080/",
          "height": 102
        },
        "outputId": "62fc31f0-4448-488a-9c50-d12a9ed8c0f1"
      },
      "source": [
        "!pip install tensorflow_hub"
      ],
      "execution_count": 14,
      "outputs": [
        {
          "output_type": "stream",
          "text": [
            "Requirement already satisfied: tensorflow_hub in /usr/local/lib/python3.6/dist-packages (0.8.0)\n",
            "Requirement already satisfied: protobuf>=3.8.0 in /usr/local/lib/python3.6/dist-packages (from tensorflow_hub) (3.10.0)\n",
            "Requirement already satisfied: six>=1.12.0 in /usr/local/lib/python3.6/dist-packages (from tensorflow_hub) (1.12.0)\n",
            "Requirement already satisfied: numpy>=1.12.0 in /usr/local/lib/python3.6/dist-packages (from tensorflow_hub) (1.18.2)\n",
            "Requirement already satisfied: setuptools in /usr/local/lib/python3.6/dist-packages (from protobuf>=3.8.0->tensorflow_hub) (46.1.3)\n"
          ],
          "name": "stdout"
        }
      ]
    },
    {
      "cell_type": "code",
      "metadata": {
        "id": "0quwB0kkX_zS",
        "colab_type": "code",
        "colab": {}
      },
      "source": [
        "import tensorflow_hub as hub\n",
        "URL = \"https://tfhub.dev/google/tf2-preview/mobilenet_v2/feature_vector/4\"\n",
        "feature_extractor = hub.KerasLayer(URL,\n",
        "                                   input_shape = (IMAGE_RES,IMAGE_RES,3))"
      ],
      "execution_count": 0,
      "outputs": []
    },
    {
      "cell_type": "code",
      "metadata": {
        "id": "10i5fGyDZkMJ",
        "colab_type": "code",
        "colab": {}
      },
      "source": [
        "feature_extractor.trainable = False"
      ],
      "execution_count": 0,
      "outputs": []
    },
    {
      "cell_type": "code",
      "metadata": {
        "id": "aW9zuc_TZ9od",
        "colab_type": "code",
        "colab": {
          "base_uri": "https://localhost:8080/",
          "height": 221
        },
        "outputId": "b113193b-b00f-4ae8-c632-bf3228911682"
      },
      "source": [
        "model = tf.keras.Sequential([\n",
        "                             feature_extractor,\n",
        "                             layers.Dense(2)                           \n",
        "])\n",
        "model.summary()"
      ],
      "execution_count": 18,
      "outputs": [
        {
          "output_type": "stream",
          "text": [
            "Model: \"sequential\"\n",
            "_________________________________________________________________\n",
            "Layer (type)                 Output Shape              Param #   \n",
            "=================================================================\n",
            "keras_layer (KerasLayer)     (None, 1280)              2257984   \n",
            "_________________________________________________________________\n",
            "dense (Dense)                (None, 2)                 2562      \n",
            "=================================================================\n",
            "Total params: 2,260,546\n",
            "Trainable params: 2,562\n",
            "Non-trainable params: 2,257,984\n",
            "_________________________________________________________________\n"
          ],
          "name": "stdout"
        }
      ]
    },
    {
      "cell_type": "code",
      "metadata": {
        "id": "sAm7oSReaXIX",
        "colab_type": "code",
        "colab": {
          "base_uri": "https://localhost:8080/",
          "height": 119
        },
        "outputId": "d8f4bf75-2ced-4920-e98c-604472f66620"
      },
      "source": [
        "model.compile(\n",
        "    optimizer = 'adam',\n",
        "    loss = tf.losses.SparseCategoricalCrossentropy(from_logits=True),\n",
        "    metrics=['accuracy']\n",
        ")\n",
        "EPOCHS = 3\n",
        "history = model.fit(train_batches,\n",
        "                    epochs = EPOCHS,\n",
        "                    validation_data = validation_batches)"
      ],
      "execution_count": 20,
      "outputs": [
        {
          "output_type": "stream",
          "text": [
            "Epoch 1/3\n",
            "582/582 [==============================] - 33s 57ms/step - loss: 0.0536 - accuracy: 0.9817 - val_loss: 0.0347 - val_accuracy: 0.9888\n",
            "Epoch 2/3\n",
            "582/582 [==============================] - 20s 35ms/step - loss: 0.0296 - accuracy: 0.9895 - val_loss: 0.0307 - val_accuracy: 0.9893\n",
            "Epoch 3/3\n",
            "582/582 [==============================] - 20s 35ms/step - loss: 0.0243 - accuracy: 0.9925 - val_loss: 0.0329 - val_accuracy: 0.9893\n"
          ],
          "name": "stdout"
        }
      ]
    },
    {
      "cell_type": "code",
      "metadata": {
        "id": "viRzZiM-bE5V",
        "colab_type": "code",
        "colab": {
          "base_uri": "https://localhost:8080/",
          "height": 34
        },
        "outputId": "32113003-6307-49a1-d6e9-fa69cbc13568"
      },
      "source": [
        "class_names = np.array(info.features['label'].names)\n",
        "class_names"
      ],
      "execution_count": 21,
      "outputs": [
        {
          "output_type": "execute_result",
          "data": {
            "text/plain": [
              "array(['cat', 'dog'], dtype='<U3')"
            ]
          },
          "metadata": {
            "tags": []
          },
          "execution_count": 21
        }
      ]
    },
    {
      "cell_type": "code",
      "metadata": {
        "id": "YqsHYVMSbsmu",
        "colab_type": "code",
        "colab": {
          "base_uri": "https://localhost:8080/",
          "height": 85
        },
        "outputId": "780ac035-fd90-4074-949e-cf49e330391e"
      },
      "source": [
        "image_batch, label_batch = next(iter(train_batches.take(1)))\n",
        "image_batch = image_batch.numpy()\n",
        "label_batch = label_batch.numpy()\n",
        "\n",
        "predicted_batch = model.predict(image_batch)\n",
        "predicted_batch = tf.squeeze(predicted_batch).numpy()\n",
        "predicted_ids = np.argmax(predicted_batch, axis=-1)\n",
        "predicted_class_names = class_names[predicted_ids]\n",
        "predicted_class_names"
      ],
      "execution_count": 22,
      "outputs": [
        {
          "output_type": "execute_result",
          "data": {
            "text/plain": [
              "array(['dog', 'dog', 'cat', 'cat', 'dog', 'dog', 'dog', 'cat', 'dog',\n",
              "       'cat', 'cat', 'cat', 'cat', 'cat', 'dog', 'dog', 'cat', 'dog',\n",
              "       'dog', 'dog', 'cat', 'cat', 'dog', 'cat', 'cat', 'cat', 'dog',\n",
              "       'dog', 'dog', 'dog', 'cat', 'cat'], dtype='<U3')"
            ]
          },
          "metadata": {
            "tags": []
          },
          "execution_count": 22
        }
      ]
    },
    {
      "cell_type": "code",
      "metadata": {
        "id": "_Eft5m70czge",
        "colab_type": "code",
        "colab": {
          "base_uri": "https://localhost:8080/",
          "height": 51
        },
        "outputId": "4325e253-b937-4cd1-dcd6-ee51fa0d3017"
      },
      "source": [
        "print('Labels:', label_batch)\n",
        "print('Predicted_labels:', predicted_ids)"
      ],
      "execution_count": 23,
      "outputs": [
        {
          "output_type": "stream",
          "text": [
            "Labels: [1 1 0 0 1 1 1 0 1 0 0 0 0 0 1 1 0 1 1 1 0 0 1 0 0 0 1 1 1 1 0 0]\n",
            "Predicted_labels: [1 1 0 0 1 1 1 0 1 0 0 0 0 0 1 1 0 1 1 1 0 0 1 0 0 0 1 1 1 1 0 0]\n"
          ],
          "name": "stdout"
        }
      ]
    },
    {
      "cell_type": "code",
      "metadata": {
        "id": "fMSekXPCeTvG",
        "colab_type": "code",
        "colab": {
          "base_uri": "https://localhost:8080/",
          "height": 34
        },
        "outputId": "0fff8988-f20d-4409-aa26-4df91327f5b0"
      },
      "source": [
        "t = time.time()\n",
        "\n",
        "export_path_keras = \"./{}.h5\".format(int(t))\n",
        "print(export_path_keras)\n",
        "\n",
        "model.save(export_path_keras)"
      ],
      "execution_count": 29,
      "outputs": [
        {
          "output_type": "stream",
          "text": [
            "./1587569113.h5\n"
          ],
          "name": "stdout"
        }
      ]
    },
    {
      "cell_type": "code",
      "metadata": {
        "id": "6n02TcCIfjZi",
        "colab_type": "code",
        "colab": {
          "base_uri": "https://localhost:8080/",
          "height": 34
        },
        "outputId": "1e6fbfda-aa85-4d0e-e0eb-727441957b0b"
      },
      "source": [
        "!ls"
      ],
      "execution_count": 30,
      "outputs": [
        {
          "output_type": "stream",
          "text": [
            "1587569113.h5  drive  sample_data\n"
          ],
          "name": "stdout"
        }
      ]
    },
    {
      "cell_type": "code",
      "metadata": {
        "id": "PSaxGU9Rfm0r",
        "colab_type": "code",
        "colab": {
          "base_uri": "https://localhost:8080/",
          "height": 221
        },
        "outputId": "5577a9aa-e70f-4d8b-dcb6-98ed0b8d618f"
      },
      "source": [
        "reloaded = tf.keras.models.load_model(\n",
        "  export_path_keras, \n",
        "  # `custom_objects` tells keras how to load a `hub.KerasLayer`\n",
        "  custom_objects={'KerasLayer': hub.KerasLayer})\n",
        "\n",
        "reloaded.summary()"
      ],
      "execution_count": 31,
      "outputs": [
        {
          "output_type": "stream",
          "text": [
            "Model: \"sequential\"\n",
            "_________________________________________________________________\n",
            "Layer (type)                 Output Shape              Param #   \n",
            "=================================================================\n",
            "keras_layer (KerasLayer)     (None, 1280)              2257984   \n",
            "_________________________________________________________________\n",
            "dense (Dense)                (None, 2)                 2562      \n",
            "=================================================================\n",
            "Total params: 2,260,546\n",
            "Trainable params: 2,562\n",
            "Non-trainable params: 2,257,984\n",
            "_________________________________________________________________\n"
          ],
          "name": "stdout"
        }
      ]
    },
    {
      "cell_type": "code",
      "metadata": {
        "id": "I0WdXzJIfuo7",
        "colab_type": "code",
        "colab": {}
      },
      "source": [
        "result_batch = model.predict(image_batch)\n",
        "reloaded_result_batch = reloaded.predict(image_batch)"
      ],
      "execution_count": 0,
      "outputs": []
    },
    {
      "cell_type": "code",
      "metadata": {
        "id": "saWiNFPlf3gP",
        "colab_type": "code",
        "colab": {
          "base_uri": "https://localhost:8080/",
          "height": 34
        },
        "outputId": "a9f38e9b-2329-4179-d1d5-cb71817cb3f4"
      },
      "source": [
        "(abs(result_batch - reloaded_result_batch)).max()"
      ],
      "execution_count": 33,
      "outputs": [
        {
          "output_type": "execute_result",
          "data": {
            "text/plain": [
              "0.0"
            ]
          },
          "metadata": {
            "tags": []
          },
          "execution_count": 33
        }
      ]
    },
    {
      "cell_type": "code",
      "metadata": {
        "id": "sfmqBmLxf72u",
        "colab_type": "code",
        "colab": {
          "base_uri": "https://localhost:8080/",
          "height": 119
        },
        "outputId": "ac16b729-6a01-43c0-f2d8-f1d345b70f81"
      },
      "source": [
        "EPOCHS = 3\n",
        "history = reloaded.fit(train_batches,\n",
        "                    epochs=EPOCHS,\n",
        "                    validation_data=validation_batches)"
      ],
      "execution_count": 34,
      "outputs": [
        {
          "output_type": "stream",
          "text": [
            "Epoch 1/3\n",
            "582/582 [==============================] - 21s 35ms/step - loss: 0.0212 - accuracy: 0.9924 - val_loss: 0.0321 - val_accuracy: 0.9899\n",
            "Epoch 2/3\n",
            "582/582 [==============================] - 20s 35ms/step - loss: 0.0189 - accuracy: 0.9930 - val_loss: 0.0341 - val_accuracy: 0.9905\n",
            "Epoch 3/3\n",
            "582/582 [==============================] - 20s 35ms/step - loss: 0.0175 - accuracy: 0.9937 - val_loss: 0.0337 - val_accuracy: 0.9905\n"
          ],
          "name": "stdout"
        }
      ]
    },
    {
      "cell_type": "code",
      "metadata": {
        "id": "JHMGwL3wgGb0",
        "colab_type": "code",
        "colab": {
          "base_uri": "https://localhost:8080/",
          "height": 190
        },
        "outputId": "6bb1829b-a68c-4aa8-9872-d54e7ba2e1f3"
      },
      "source": [
        "t = time.time()\n",
        "\n",
        "export_path_sm = \"./{}\".format(int(t))\n",
        "print(export_path_sm)\n",
        "\n",
        "tf.saved_model.save(model, export_path_sm)"
      ],
      "execution_count": 35,
      "outputs": [
        {
          "output_type": "stream",
          "text": [
            "./1587569363\n",
            "WARNING:tensorflow:From /usr/local/lib/python3.6/dist-packages/tensorflow/python/ops/resource_variable_ops.py:1817: calling BaseResourceVariable.__init__ (from tensorflow.python.ops.resource_variable_ops) with constraint is deprecated and will be removed in a future version.\n",
            "Instructions for updating:\n",
            "If using Keras pass *_constraint arguments to layers.\n"
          ],
          "name": "stdout"
        },
        {
          "output_type": "stream",
          "text": [
            "WARNING:tensorflow:From /usr/local/lib/python3.6/dist-packages/tensorflow/python/ops/resource_variable_ops.py:1817: calling BaseResourceVariable.__init__ (from tensorflow.python.ops.resource_variable_ops) with constraint is deprecated and will be removed in a future version.\n",
            "Instructions for updating:\n",
            "If using Keras pass *_constraint arguments to layers.\n"
          ],
          "name": "stderr"
        },
        {
          "output_type": "stream",
          "text": [
            "INFO:tensorflow:Assets written to: ./1587569363/assets\n"
          ],
          "name": "stdout"
        },
        {
          "output_type": "stream",
          "text": [
            "INFO:tensorflow:Assets written to: ./1587569363/assets\n"
          ],
          "name": "stderr"
        }
      ]
    },
    {
      "cell_type": "code",
      "metadata": {
        "id": "2VmGbmgnggi8",
        "colab_type": "code",
        "colab": {
          "base_uri": "https://localhost:8080/",
          "height": 34
        },
        "outputId": "11041a18-8aba-4685-b267-e9b373766a06"
      },
      "source": [
        "!ls {export_path_sm}"
      ],
      "execution_count": 36,
      "outputs": [
        {
          "output_type": "stream",
          "text": [
            "assets\tsaved_model.pb\tvariables\n"
          ],
          "name": "stdout"
        }
      ]
    },
    {
      "cell_type": "code",
      "metadata": {
        "id": "hTLGonITgk1s",
        "colab_type": "code",
        "colab": {}
      },
      "source": [
        "reloaded_sm = tf.saved_model.load(export_path_sm)"
      ],
      "execution_count": 0,
      "outputs": []
    },
    {
      "cell_type": "code",
      "metadata": {
        "id": "rjvyNG1YgqUh",
        "colab_type": "code",
        "colab": {}
      },
      "source": [
        "reload_sm_result_batch = reloaded_sm(image_batch, training=False).numpy()"
      ],
      "execution_count": 0,
      "outputs": []
    },
    {
      "cell_type": "code",
      "metadata": {
        "id": "IdOT4ovbgw7X",
        "colab_type": "code",
        "colab": {
          "base_uri": "https://localhost:8080/",
          "height": 68
        },
        "outputId": "95d43ceb-3e61-44d5-d7ca-d740040b86be"
      },
      "source": [
        "t = time.time()\n",
        "\n",
        "export_path_sm = \"./{}\".format(int(t))\n",
        "print(export_path_sm)\n",
        "tf.saved_model.save(model, export_path_sm)"
      ],
      "execution_count": 40,
      "outputs": [
        {
          "output_type": "stream",
          "text": [
            "./1587569696\n",
            "INFO:tensorflow:Assets written to: ./1587569696/assets\n"
          ],
          "name": "stdout"
        },
        {
          "output_type": "stream",
          "text": [
            "INFO:tensorflow:Assets written to: ./1587569696/assets\n"
          ],
          "name": "stderr"
        }
      ]
    },
    {
      "cell_type": "code",
      "metadata": {
        "id": "mZzCAN--hhJl",
        "colab_type": "code",
        "colab": {
          "base_uri": "https://localhost:8080/",
          "height": 221
        },
        "outputId": "938c81c4-6df0-4cdd-e928-1ac17f58e722"
      },
      "source": [
        "reload_sm_keras = tf.keras.models.load_model(\n",
        "  export_path_sm,\n",
        "  custom_objects={'KerasLayer': hub.KerasLayer})\n",
        "\n",
        "reload_sm_keras.summary()"
      ],
      "execution_count": 41,
      "outputs": [
        {
          "output_type": "stream",
          "text": [
            "Model: \"sequential\"\n",
            "_________________________________________________________________\n",
            "Layer (type)                 Output Shape              Param #   \n",
            "=================================================================\n",
            "keras_layer (KerasLayer)     (None, 1280)              2257984   \n",
            "_________________________________________________________________\n",
            "dense (Dense)                (None, 2)                 2562      \n",
            "=================================================================\n",
            "Total params: 2,260,546\n",
            "Trainable params: 2,226,434\n",
            "Non-trainable params: 34,112\n",
            "_________________________________________________________________\n"
          ],
          "name": "stdout"
        }
      ]
    },
    {
      "cell_type": "code",
      "metadata": {
        "id": "qJtGMANih2yd",
        "colab_type": "code",
        "colab": {}
      },
      "source": [
        "result_batch = model.predict(image_batch)\n",
        "reload_sm_keras_result_batch = reload_sm_keras.predict(image_batch)"
      ],
      "execution_count": 0,
      "outputs": []
    },
    {
      "cell_type": "code",
      "metadata": {
        "id": "z0EJhbmSh7ZD",
        "colab_type": "code",
        "colab": {
          "base_uri": "https://localhost:8080/",
          "height": 34
        },
        "outputId": "60a850f2-f586-4795-c5d8-8e4dfd484761"
      },
      "source": [
        "(abs(result_batch - reload_sm_keras_result_batch)).max()"
      ],
      "execution_count": 43,
      "outputs": [
        {
          "output_type": "execute_result",
          "data": {
            "text/plain": [
              "0.0"
            ]
          },
          "metadata": {
            "tags": []
          },
          "execution_count": 43
        }
      ]
    },
    {
      "cell_type": "code",
      "metadata": {
        "id": "gKU84FuRh-vd",
        "colab_type": "code",
        "colab": {
          "base_uri": "https://localhost:8080/",
          "height": 136
        },
        "outputId": "79b82c92-07d3-4249-cb41-1a416fb16397"
      },
      "source": [
        "!zip -r model.zip {export_path_sm}"
      ],
      "execution_count": 44,
      "outputs": [
        {
          "output_type": "stream",
          "text": [
            "  adding: 1587569696/ (stored 0%)\n",
            "  adding: 1587569696/saved_model.pb (deflated 92%)\n",
            "  adding: 1587569696/assets/ (stored 0%)\n",
            "  adding: 1587569696/variables/ (stored 0%)\n",
            "  adding: 1587569696/variables/variables.data-00000-of-00002 (deflated 88%)\n",
            "  adding: 1587569696/variables/variables.data-00001-of-00002 (deflated 7%)\n",
            "  adding: 1587569696/variables/variables.index (deflated 79%)\n"
          ],
          "name": "stdout"
        }
      ]
    },
    {
      "cell_type": "code",
      "metadata": {
        "id": "Dn_nkCAviFdU",
        "colab_type": "code",
        "colab": {
          "base_uri": "https://localhost:8080/",
          "height": 34
        },
        "outputId": "78282260-e650-40ad-a6ae-342d8897d417"
      },
      "source": [
        "!ls"
      ],
      "execution_count": 45,
      "outputs": [
        {
          "output_type": "stream",
          "text": [
            "1587569113.h5  1587569363  1587569696  drive  model.zip  sample_data\n"
          ],
          "name": "stdout"
        }
      ]
    },
    {
      "cell_type": "code",
      "metadata": {
        "id": "5q9YrVt4iKR6",
        "colab_type": "code",
        "colab": {
          "base_uri": "https://localhost:8080/",
          "height": 374
        },
        "outputId": "8d07bc8e-b8e2-448e-bcc4-3fb0e0da6b16"
      },
      "source": [
        "try:\n",
        "  from google.colab import files\n",
        "  files.download('./model.zip')\n",
        "except ImportError:\n",
        "  pass"
      ],
      "execution_count": 46,
      "outputs": [
        {
          "output_type": "error",
          "ename": "MessageError",
          "evalue": "ignored",
          "traceback": [
            "\u001b[0;31m---------------------------------------------------------------------------\u001b[0m",
            "\u001b[0;31mMessageError\u001b[0m                              Traceback (most recent call last)",
            "\u001b[0;32m<ipython-input-46-887af7c3a34c>\u001b[0m in \u001b[0;36m<module>\u001b[0;34m()\u001b[0m\n\u001b[1;32m      1\u001b[0m \u001b[0;32mtry\u001b[0m\u001b[0;34m:\u001b[0m\u001b[0;34m\u001b[0m\u001b[0;34m\u001b[0m\u001b[0m\n\u001b[1;32m      2\u001b[0m   \u001b[0;32mfrom\u001b[0m \u001b[0mgoogle\u001b[0m\u001b[0;34m.\u001b[0m\u001b[0mcolab\u001b[0m \u001b[0;32mimport\u001b[0m \u001b[0mfiles\u001b[0m\u001b[0;34m\u001b[0m\u001b[0;34m\u001b[0m\u001b[0m\n\u001b[0;32m----> 3\u001b[0;31m   \u001b[0mfiles\u001b[0m\u001b[0;34m.\u001b[0m\u001b[0mdownload\u001b[0m\u001b[0;34m(\u001b[0m\u001b[0;34m'./model.zip'\u001b[0m\u001b[0;34m)\u001b[0m\u001b[0;34m\u001b[0m\u001b[0;34m\u001b[0m\u001b[0m\n\u001b[0m\u001b[1;32m      4\u001b[0m \u001b[0;32mexcept\u001b[0m \u001b[0mImportError\u001b[0m\u001b[0;34m:\u001b[0m\u001b[0;34m\u001b[0m\u001b[0;34m\u001b[0m\u001b[0m\n\u001b[1;32m      5\u001b[0m   \u001b[0;32mpass\u001b[0m\u001b[0;34m\u001b[0m\u001b[0;34m\u001b[0m\u001b[0m\n",
            "\u001b[0;32m/usr/local/lib/python3.6/dist-packages/google/colab/files.py\u001b[0m in \u001b[0;36mdownload\u001b[0;34m(filename)\u001b[0m\n\u001b[1;32m    176\u001b[0m       \u001b[0;34m'port'\u001b[0m\u001b[0;34m:\u001b[0m \u001b[0mport\u001b[0m\u001b[0;34m,\u001b[0m\u001b[0;34m\u001b[0m\u001b[0;34m\u001b[0m\u001b[0m\n\u001b[1;32m    177\u001b[0m       \u001b[0;34m'path'\u001b[0m\u001b[0;34m:\u001b[0m \u001b[0m_os\u001b[0m\u001b[0;34m.\u001b[0m\u001b[0mpath\u001b[0m\u001b[0;34m.\u001b[0m\u001b[0mabspath\u001b[0m\u001b[0;34m(\u001b[0m\u001b[0mfilename\u001b[0m\u001b[0;34m)\u001b[0m\u001b[0;34m,\u001b[0m\u001b[0;34m\u001b[0m\u001b[0;34m\u001b[0m\u001b[0m\n\u001b[0;32m--> 178\u001b[0;31m       \u001b[0;34m'name'\u001b[0m\u001b[0;34m:\u001b[0m \u001b[0m_os\u001b[0m\u001b[0;34m.\u001b[0m\u001b[0mpath\u001b[0m\u001b[0;34m.\u001b[0m\u001b[0mbasename\u001b[0m\u001b[0;34m(\u001b[0m\u001b[0mfilename\u001b[0m\u001b[0;34m)\u001b[0m\u001b[0;34m,\u001b[0m\u001b[0;34m\u001b[0m\u001b[0;34m\u001b[0m\u001b[0m\n\u001b[0m\u001b[1;32m    179\u001b[0m   })\n",
            "\u001b[0;32m/usr/local/lib/python3.6/dist-packages/google/colab/output/_js.py\u001b[0m in \u001b[0;36meval_js\u001b[0;34m(script, ignore_result)\u001b[0m\n\u001b[1;32m     37\u001b[0m   \u001b[0;32mif\u001b[0m \u001b[0mignore_result\u001b[0m\u001b[0;34m:\u001b[0m\u001b[0;34m\u001b[0m\u001b[0;34m\u001b[0m\u001b[0m\n\u001b[1;32m     38\u001b[0m     \u001b[0;32mreturn\u001b[0m\u001b[0;34m\u001b[0m\u001b[0;34m\u001b[0m\u001b[0m\n\u001b[0;32m---> 39\u001b[0;31m   \u001b[0;32mreturn\u001b[0m \u001b[0m_message\u001b[0m\u001b[0;34m.\u001b[0m\u001b[0mread_reply_from_input\u001b[0m\u001b[0;34m(\u001b[0m\u001b[0mrequest_id\u001b[0m\u001b[0;34m)\u001b[0m\u001b[0;34m\u001b[0m\u001b[0;34m\u001b[0m\u001b[0m\n\u001b[0m\u001b[1;32m     40\u001b[0m \u001b[0;34m\u001b[0m\u001b[0m\n\u001b[1;32m     41\u001b[0m \u001b[0;34m\u001b[0m\u001b[0m\n",
            "\u001b[0;32m/usr/local/lib/python3.6/dist-packages/google/colab/_message.py\u001b[0m in \u001b[0;36mread_reply_from_input\u001b[0;34m(message_id, timeout_sec)\u001b[0m\n\u001b[1;32m    104\u001b[0m         reply.get('colab_msg_id') == message_id):\n\u001b[1;32m    105\u001b[0m       \u001b[0;32mif\u001b[0m \u001b[0;34m'error'\u001b[0m \u001b[0;32min\u001b[0m \u001b[0mreply\u001b[0m\u001b[0;34m:\u001b[0m\u001b[0;34m\u001b[0m\u001b[0;34m\u001b[0m\u001b[0m\n\u001b[0;32m--> 106\u001b[0;31m         \u001b[0;32mraise\u001b[0m \u001b[0mMessageError\u001b[0m\u001b[0;34m(\u001b[0m\u001b[0mreply\u001b[0m\u001b[0;34m[\u001b[0m\u001b[0;34m'error'\u001b[0m\u001b[0;34m]\u001b[0m\u001b[0;34m)\u001b[0m\u001b[0;34m\u001b[0m\u001b[0;34m\u001b[0m\u001b[0m\n\u001b[0m\u001b[1;32m    107\u001b[0m       \u001b[0;32mreturn\u001b[0m \u001b[0mreply\u001b[0m\u001b[0;34m.\u001b[0m\u001b[0mget\u001b[0m\u001b[0;34m(\u001b[0m\u001b[0;34m'data'\u001b[0m\u001b[0;34m,\u001b[0m \u001b[0;32mNone\u001b[0m\u001b[0;34m)\u001b[0m\u001b[0;34m\u001b[0m\u001b[0;34m\u001b[0m\u001b[0m\n\u001b[1;32m    108\u001b[0m \u001b[0;34m\u001b[0m\u001b[0m\n",
            "\u001b[0;31mMessageError\u001b[0m: TypeError: Failed to fetch"
          ]
        }
      ]
    },
    {
      "cell_type": "code",
      "metadata": {
        "id": "ri2U9C9FiOus",
        "colab_type": "code",
        "colab": {}
      },
      "source": [
        ""
      ],
      "execution_count": 0,
      "outputs": []
    }
  ]
}